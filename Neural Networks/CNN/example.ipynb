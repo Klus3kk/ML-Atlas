{
 "cells": [
  {
   "cell_type": "code",
   "execution_count": 3,
   "metadata": {},
   "outputs": [],
   "source": [
    "import tensorflow as tf\n",
    "from tensorflow.keras import layers\n",
    "import numpy as np\n"
   ]
  },
  {
   "cell_type": "code",
   "execution_count": 4,
   "metadata": {},
   "outputs": [],
   "source": [
    "img_height = 128  # Replace with your image height\n",
    "img_width = 128   # Replace with your image width\n",
    "num_classes = 10  # Replace with the number of classes in your dataset\n",
    "X_train = np.random.rand(1000, img_height, img_width, 3)  # 1000 samples of images\n",
    "y_train = np.random.randint(num_classes, size=(1000,))    # Corresponding labels for the images"
   ]
  },
  {
   "cell_type": "code",
   "execution_count": 5,
   "metadata": {},
   "outputs": [],
   "source": [
    "\n",
    "# Model definition\n",
    "model = tf.keras.Sequential([\n",
    "    layers.Conv2D(32, (3, 3), activation='relu', input_shape=(img_height, img_width, 3)),\n",
    "    layers.MaxPooling2D((2, 2)),\n",
    "    layers.Conv2D(64, (3, 3), activation='relu'),\n",
    "    layers.MaxPooling2D((2, 2)),\n",
    "    layers.Flatten(),\n",
    "    layers.Dense(64, activation='relu'),\n",
    "    layers.Dense(num_classes, activation='softmax')\n",
    "])\n"
   ]
  },
  {
   "cell_type": "code",
   "execution_count": 6,
   "metadata": {},
   "outputs": [],
   "source": [
    "# Compile the model\n",
    "model.compile(optimizer='adam',\n",
    "              loss='sparse_categorical_crossentropy',\n",
    "              metrics=['accuracy'])\n"
   ]
  },
  {
   "cell_type": "code",
   "execution_count": 7,
   "metadata": {},
   "outputs": [
    {
     "name": "stdout",
     "output_type": "stream",
     "text": [
      "Epoch 1/10\n",
      "25/25 [==============================] - 4s 129ms/step - loss: 3.4113 - accuracy: 0.1063 - val_loss: 2.3032 - val_accuracy: 0.0750\n",
      "Epoch 2/10\n",
      "25/25 [==============================] - 3s 130ms/step - loss: 2.3028 - accuracy: 0.1050 - val_loss: 2.3036 - val_accuracy: 0.1000\n",
      "Epoch 3/10\n",
      "25/25 [==============================] - 3s 114ms/step - loss: 2.3102 - accuracy: 0.1088 - val_loss: 2.3040 - val_accuracy: 0.0900\n",
      "Epoch 4/10\n",
      "25/25 [==============================] - 3s 110ms/step - loss: 2.3010 - accuracy: 0.1175 - val_loss: 2.3053 - val_accuracy: 0.0950\n",
      "Epoch 5/10\n",
      "25/25 [==============================] - 4s 143ms/step - loss: 2.2970 - accuracy: 0.1262 - val_loss: 2.3139 - val_accuracy: 0.0950\n",
      "Epoch 6/10\n",
      "25/25 [==============================] - 5s 202ms/step - loss: 2.2878 - accuracy: 0.1163 - val_loss: 2.3112 - val_accuracy: 0.0950\n",
      "Epoch 7/10\n",
      "25/25 [==============================] - 5s 200ms/step - loss: 2.2821 - accuracy: 0.1213 - val_loss: 2.3162 - val_accuracy: 0.0950\n",
      "Epoch 8/10\n",
      "25/25 [==============================] - 5s 185ms/step - loss: 2.2727 - accuracy: 0.1650 - val_loss: 2.3064 - val_accuracy: 0.0900\n",
      "Epoch 9/10\n",
      "25/25 [==============================] - 4s 173ms/step - loss: 2.2778 - accuracy: 0.1550 - val_loss: 2.3227 - val_accuracy: 0.0950\n",
      "Epoch 10/10\n",
      "25/25 [==============================] - 4s 174ms/step - loss: 2.2659 - accuracy: 0.1200 - val_loss: 2.3238 - val_accuracy: 0.0950\n"
     ]
    },
    {
     "data": {
      "text/plain": [
       "<keras.callbacks.History at 0x10d7f5aea70>"
      ]
     },
     "execution_count": 7,
     "metadata": {},
     "output_type": "execute_result"
    }
   ],
   "source": [
    "# Training the model\n",
    "model.fit(X_train, y_train, epochs=10, batch_size=32, validation_split=0.2)\n"
   ]
  }
 ],
 "metadata": {
  "kernelspec": {
   "display_name": "PyData",
   "language": "python",
   "name": "python3"
  },
  "language_info": {
   "codemirror_mode": {
    "name": "ipython",
    "version": 3
   },
   "file_extension": ".py",
   "mimetype": "text/x-python",
   "name": "python",
   "nbconvert_exporter": "python",
   "pygments_lexer": "ipython3",
   "version": "3.10.13"
  }
 },
 "nbformat": 4,
 "nbformat_minor": 2
}
