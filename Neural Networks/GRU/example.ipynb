{
 "cells": [
  {
   "cell_type": "code",
   "execution_count": 1,
   "metadata": {},
   "outputs": [],
   "source": [
    "import tensorflow as tf\n",
    "from tensorflow.keras import layers\n",
    "import numpy as np"
   ]
  },
  {
   "cell_type": "code",
   "execution_count": 2,
   "metadata": {},
   "outputs": [],
   "source": [
    "timesteps = 10  # Number of time steps in each sequence\n",
    "features = 20   # Number of features at each time step\n",
    "X_train = np.random.rand(1000, timesteps, features)  # 1000 sequences, each with `timesteps` time steps and `features` features\n",
    "y_train = np.random.rand(1000)"
   ]
  },
  {
   "cell_type": "code",
   "execution_count": 3,
   "metadata": {},
   "outputs": [],
   "source": [
    "# Model definition\n",
    "model = tf.keras.Sequential([\n",
    "    layers.GRU(50, activation='tanh', input_shape=(timesteps, features)),\n",
    "    layers.Dense(1)  # Output layer for regression\n",
    "])"
   ]
  },
  {
   "cell_type": "code",
   "execution_count": 4,
   "metadata": {},
   "outputs": [],
   "source": [
    "# Compile the model\n",
    "model.compile(optimizer='adam',\n",
    "              loss='mse')  # Mean Squared Error loss for regression"
   ]
  },
  {
   "cell_type": "code",
   "execution_count": 5,
   "metadata": {},
   "outputs": [
    {
     "name": "stdout",
     "output_type": "stream",
     "text": [
      "Epoch 1/10\n",
      "25/25 [==============================] - 2s 35ms/step - loss: 0.1145 - val_loss: 0.1134\n",
      "Epoch 2/10\n",
      "25/25 [==============================] - 0s 9ms/step - loss: 0.0900 - val_loss: 0.0942\n",
      "Epoch 3/10\n",
      "25/25 [==============================] - 0s 9ms/step - loss: 0.0849 - val_loss: 0.0945\n",
      "Epoch 4/10\n",
      "25/25 [==============================] - 0s 9ms/step - loss: 0.0835 - val_loss: 0.0930\n",
      "Epoch 5/10\n",
      "25/25 [==============================] - 0s 9ms/step - loss: 0.0825 - val_loss: 0.0889\n",
      "Epoch 6/10\n",
      "25/25 [==============================] - 0s 9ms/step - loss: 0.0810 - val_loss: 0.0878\n",
      "Epoch 7/10\n",
      "25/25 [==============================] - 0s 9ms/step - loss: 0.0804 - val_loss: 0.0943\n",
      "Epoch 8/10\n",
      "25/25 [==============================] - 0s 9ms/step - loss: 0.0795 - val_loss: 0.0876\n",
      "Epoch 9/10\n",
      "25/25 [==============================] - 0s 8ms/step - loss: 0.0790 - val_loss: 0.0875\n",
      "Epoch 10/10\n",
      "25/25 [==============================] - 0s 10ms/step - loss: 0.0779 - val_loss: 0.0868\n"
     ]
    },
    {
     "data": {
      "text/plain": [
       "<keras.callbacks.History at 0x24e2f573bb0>"
      ]
     },
     "execution_count": 5,
     "metadata": {},
     "output_type": "execute_result"
    }
   ],
   "source": [
    "# Training the model\n",
    "model.fit(X_train, y_train, epochs=10, batch_size=32, validation_split=0.2)"
   ]
  }
 ],
 "metadata": {
  "kernelspec": {
   "display_name": "PyData",
   "language": "python",
   "name": "python3"
  },
  "language_info": {
   "codemirror_mode": {
    "name": "ipython",
    "version": 3
   },
   "file_extension": ".py",
   "mimetype": "text/x-python",
   "name": "python",
   "nbconvert_exporter": "python",
   "pygments_lexer": "ipython3",
   "version": "3.10.13"
  }
 },
 "nbformat": 4,
 "nbformat_minor": 2
}
