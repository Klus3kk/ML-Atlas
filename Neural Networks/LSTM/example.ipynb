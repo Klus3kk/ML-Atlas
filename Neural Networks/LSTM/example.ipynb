{
 "cells": [
  {
   "cell_type": "code",
   "execution_count": 1,
   "metadata": {},
   "outputs": [],
   "source": [
    "import numpy as np\n",
    "import tensorflow as tf\n",
    "from tensorflow.keras import layers"
   ]
  },
  {
   "cell_type": "code",
   "execution_count": 2,
   "metadata": {},
   "outputs": [],
   "source": [
    "timesteps = 10  # Number of time steps in each sequence\n",
    "features = 20   # Number of features at each time step\n",
    "X_train = np.random.rand(1000, timesteps, features)  # 1000 sequences, each with `timesteps` time steps and `features` features\n",
    "y_train = np.random.rand(1000)"
   ]
  },
  {
   "cell_type": "code",
   "execution_count": 3,
   "metadata": {},
   "outputs": [],
   "source": [
    "# Model definition\n",
    "model = tf.keras.Sequential([\n",
    "    layers.LSTM(50, activation='tanh', input_shape=(timesteps, features)),\n",
    "    layers.Dense(1)  # Output layer for regression\n",
    "])"
   ]
  },
  {
   "cell_type": "code",
   "execution_count": 4,
   "metadata": {},
   "outputs": [],
   "source": [
    "# Compile the model\n",
    "model.compile(optimizer='adam',\n",
    "              loss='mse')  # Mean Squared Error loss for regression"
   ]
  },
  {
   "cell_type": "code",
   "execution_count": 5,
   "metadata": {},
   "outputs": [
    {
     "name": "stdout",
     "output_type": "stream",
     "text": [
      "Epoch 1/10\n",
      "25/25 [==============================] - 2s 27ms/step - loss: 0.0968 - val_loss: 0.0873\n",
      "Epoch 2/10\n",
      "25/25 [==============================] - 0s 7ms/step - loss: 0.0875 - val_loss: 0.0911\n",
      "Epoch 3/10\n",
      "25/25 [==============================] - 0s 8ms/step - loss: 0.0857 - val_loss: 0.0844\n",
      "Epoch 4/10\n",
      "25/25 [==============================] - 0s 8ms/step - loss: 0.0824 - val_loss: 0.0847\n",
      "Epoch 5/10\n",
      "25/25 [==============================] - 0s 8ms/step - loss: 0.0824 - val_loss: 0.0834\n",
      "Epoch 6/10\n",
      "25/25 [==============================] - 0s 7ms/step - loss: 0.0804 - val_loss: 0.0854\n",
      "Epoch 7/10\n",
      "25/25 [==============================] - 0s 7ms/step - loss: 0.0845 - val_loss: 0.0829\n",
      "Epoch 8/10\n",
      "25/25 [==============================] - 0s 8ms/step - loss: 0.0829 - val_loss: 0.0851\n",
      "Epoch 9/10\n",
      "25/25 [==============================] - 0s 8ms/step - loss: 0.0840 - val_loss: 0.0824\n",
      "Epoch 10/10\n",
      "25/25 [==============================] - 0s 8ms/step - loss: 0.0826 - val_loss: 0.0824\n"
     ]
    },
    {
     "data": {
      "text/plain": [
       "<keras.callbacks.History at 0x21a860004c0>"
      ]
     },
     "execution_count": 5,
     "metadata": {},
     "output_type": "execute_result"
    }
   ],
   "source": [
    "# Training the model\n",
    "model.fit(X_train, y_train, epochs=10, batch_size=32, validation_split=0.2)"
   ]
  }
 ],
 "metadata": {
  "kernelspec": {
   "display_name": "PyData",
   "language": "python",
   "name": "python3"
  },
  "language_info": {
   "codemirror_mode": {
    "name": "ipython",
    "version": 3
   },
   "file_extension": ".py",
   "mimetype": "text/x-python",
   "name": "python",
   "nbconvert_exporter": "python",
   "pygments_lexer": "ipython3",
   "version": "3.10.13"
  }
 },
 "nbformat": 4,
 "nbformat_minor": 2
}
