{
 "cells": [
  {
   "cell_type": "code",
   "execution_count": 1,
   "metadata": {},
   "outputs": [],
   "source": [
    "import tensorflow as tf\n",
    "from tensorflow.keras import layers\n",
    "from tensorflow.keras.datasets import mnist"
   ]
  },
  {
   "cell_type": "code",
   "execution_count": 2,
   "metadata": {},
   "outputs": [],
   "source": [
    "# Load and preprocess the MNIST dataset\n",
    "(X_train, _), (X_test, _) = mnist.load_data()\n",
    "X_train = X_train.astype('float32') / 255.0  # Normalize to [0, 1]\n",
    "X_test = X_test.astype('float32') / 255.0    # Normalize to [0, 1]"
   ]
  },
  {
   "cell_type": "code",
   "execution_count": 3,
   "metadata": {},
   "outputs": [],
   "source": [
    "# Flatten the images\n",
    "X_train = X_train.reshape((X_train.shape[0], 784))\n",
    "X_test = X_test.reshape((X_test.shape[0], 784))\n"
   ]
  },
  {
   "cell_type": "code",
   "execution_count": 4,
   "metadata": {},
   "outputs": [],
   "source": [
    "# Model definition\n",
    "input_dim = 784  # 28x28 images flattened\n",
    "encoding_dim = 32"
   ]
  },
  {
   "cell_type": "code",
   "execution_count": 5,
   "metadata": {},
   "outputs": [],
   "source": [
    "# Encoder\n",
    "input_img = tf.keras.Input(shape=(input_dim,))\n",
    "encoded = layers.Dense(encoding_dim, activation='relu')(input_img)"
   ]
  },
  {
   "cell_type": "code",
   "execution_count": 6,
   "metadata": {},
   "outputs": [],
   "source": [
    "# Decoder\n",
    "decoded = layers.Dense(input_dim, activation='sigmoid')(encoded)"
   ]
  },
  {
   "cell_type": "code",
   "execution_count": 7,
   "metadata": {},
   "outputs": [],
   "source": [
    "# Autoencoder model\n",
    "autoencoder = tf.keras.Model(input_img, decoded)"
   ]
  },
  {
   "cell_type": "code",
   "execution_count": 8,
   "metadata": {},
   "outputs": [],
   "source": [
    "# Compile the model\n",
    "autoencoder.compile(optimizer='adam', loss='binary_crossentropy')"
   ]
  },
  {
   "cell_type": "code",
   "execution_count": 9,
   "metadata": {},
   "outputs": [
    {
     "name": "stdout",
     "output_type": "stream",
     "text": [
      "Epoch 1/50\n",
      "188/188 [==============================] - 1s 5ms/step - loss: 0.2977 - val_loss: 0.2041\n",
      "Epoch 2/50\n",
      "188/188 [==============================] - 1s 5ms/step - loss: 0.1837 - val_loss: 0.1669\n",
      "Epoch 3/50\n",
      "188/188 [==============================] - 1s 4ms/step - loss: 0.1564 - val_loss: 0.1460\n",
      "Epoch 4/50\n",
      "188/188 [==============================] - 1s 4ms/step - loss: 0.1388 - val_loss: 0.1319\n",
      "Epoch 5/50\n",
      "188/188 [==============================] - 1s 4ms/step - loss: 0.1271 - val_loss: 0.1224\n",
      "Epoch 6/50\n",
      "188/188 [==============================] - 1s 4ms/step - loss: 0.1190 - val_loss: 0.1158\n",
      "Epoch 7/50\n",
      "188/188 [==============================] - 1s 4ms/step - loss: 0.1132 - val_loss: 0.1108\n",
      "Epoch 8/50\n",
      "188/188 [==============================] - 1s 5ms/step - loss: 0.1085 - val_loss: 0.1069\n",
      "Epoch 9/50\n",
      "188/188 [==============================] - 1s 6ms/step - loss: 0.1050 - val_loss: 0.1040\n",
      "Epoch 10/50\n",
      "188/188 [==============================] - 1s 6ms/step - loss: 0.1022 - val_loss: 0.1015\n",
      "Epoch 11/50\n",
      "188/188 [==============================] - 1s 6ms/step - loss: 0.1000 - val_loss: 0.0996\n",
      "Epoch 12/50\n",
      "188/188 [==============================] - 1s 6ms/step - loss: 0.0982 - val_loss: 0.0981\n",
      "Epoch 13/50\n",
      "188/188 [==============================] - 1s 6ms/step - loss: 0.0969 - val_loss: 0.0970\n",
      "Epoch 14/50\n",
      "188/188 [==============================] - 1s 6ms/step - loss: 0.0960 - val_loss: 0.0963\n",
      "Epoch 15/50\n",
      "188/188 [==============================] - 1s 6ms/step - loss: 0.0953 - val_loss: 0.0958\n",
      "Epoch 16/50\n",
      "188/188 [==============================] - 1s 6ms/step - loss: 0.0948 - val_loss: 0.0954\n",
      "Epoch 17/50\n",
      "188/188 [==============================] - 1s 6ms/step - loss: 0.0944 - val_loss: 0.0951\n",
      "Epoch 18/50\n",
      "188/188 [==============================] - 1s 6ms/step - loss: 0.0942 - val_loss: 0.0949\n",
      "Epoch 19/50\n",
      "188/188 [==============================] - 1s 6ms/step - loss: 0.0940 - val_loss: 0.0947\n",
      "Epoch 20/50\n",
      "188/188 [==============================] - 1s 6ms/step - loss: 0.0938 - val_loss: 0.0945\n",
      "Epoch 21/50\n",
      "188/188 [==============================] - 1s 6ms/step - loss: 0.0937 - val_loss: 0.0944\n",
      "Epoch 22/50\n",
      "188/188 [==============================] - 1s 6ms/step - loss: 0.0935 - val_loss: 0.0943\n",
      "Epoch 23/50\n",
      "188/188 [==============================] - 1s 6ms/step - loss: 0.0934 - val_loss: 0.0942\n",
      "Epoch 24/50\n",
      "188/188 [==============================] - 1s 6ms/step - loss: 0.0933 - val_loss: 0.0942\n",
      "Epoch 25/50\n",
      "188/188 [==============================] - 1s 6ms/step - loss: 0.0933 - val_loss: 0.0942\n",
      "Epoch 26/50\n",
      "188/188 [==============================] - 1s 6ms/step - loss: 0.0932 - val_loss: 0.0941\n",
      "Epoch 27/50\n",
      "188/188 [==============================] - 1s 6ms/step - loss: 0.0931 - val_loss: 0.0940\n",
      "Epoch 28/50\n",
      "188/188 [==============================] - 1s 6ms/step - loss: 0.0931 - val_loss: 0.0940\n",
      "Epoch 29/50\n",
      "188/188 [==============================] - 1s 6ms/step - loss: 0.0931 - val_loss: 0.0940\n",
      "Epoch 30/50\n",
      "188/188 [==============================] - 1s 6ms/step - loss: 0.0930 - val_loss: 0.0939\n",
      "Epoch 31/50\n",
      "188/188 [==============================] - 1s 6ms/step - loss: 0.0930 - val_loss: 0.0939\n",
      "Epoch 32/50\n",
      "188/188 [==============================] - 1s 6ms/step - loss: 0.0930 - val_loss: 0.0939\n",
      "Epoch 33/50\n",
      "188/188 [==============================] - 1s 6ms/step - loss: 0.0929 - val_loss: 0.0939\n",
      "Epoch 34/50\n",
      "188/188 [==============================] - 1s 6ms/step - loss: 0.0929 - val_loss: 0.0939\n",
      "Epoch 35/50\n",
      "188/188 [==============================] - 1s 6ms/step - loss: 0.0929 - val_loss: 0.0938\n",
      "Epoch 36/50\n",
      "188/188 [==============================] - 1s 6ms/step - loss: 0.0928 - val_loss: 0.0938\n",
      "Epoch 37/50\n",
      "188/188 [==============================] - 1s 5ms/step - loss: 0.0928 - val_loss: 0.0938\n",
      "Epoch 38/50\n",
      "188/188 [==============================] - 1s 6ms/step - loss: 0.0928 - val_loss: 0.0938\n",
      "Epoch 39/50\n",
      "188/188 [==============================] - 1s 6ms/step - loss: 0.0928 - val_loss: 0.0938\n",
      "Epoch 40/50\n",
      "188/188 [==============================] - 1s 6ms/step - loss: 0.0928 - val_loss: 0.0937\n",
      "Epoch 41/50\n",
      "188/188 [==============================] - 1s 6ms/step - loss: 0.0927 - val_loss: 0.0937\n",
      "Epoch 42/50\n",
      "188/188 [==============================] - 1s 6ms/step - loss: 0.0927 - val_loss: 0.0937\n",
      "Epoch 43/50\n",
      "188/188 [==============================] - 1s 6ms/step - loss: 0.0927 - val_loss: 0.0937\n",
      "Epoch 44/50\n",
      "188/188 [==============================] - 1s 6ms/step - loss: 0.0927 - val_loss: 0.0937\n",
      "Epoch 45/50\n",
      "188/188 [==============================] - 1s 6ms/step - loss: 0.0927 - val_loss: 0.0937\n",
      "Epoch 46/50\n",
      "188/188 [==============================] - 1s 6ms/step - loss: 0.0927 - val_loss: 0.0938\n",
      "Epoch 47/50\n",
      "188/188 [==============================] - 1s 6ms/step - loss: 0.0926 - val_loss: 0.0936\n",
      "Epoch 48/50\n",
      "188/188 [==============================] - 1s 6ms/step - loss: 0.0926 - val_loss: 0.0936\n",
      "Epoch 49/50\n",
      "188/188 [==============================] - 1s 6ms/step - loss: 0.0926 - val_loss: 0.0936\n",
      "Epoch 50/50\n",
      "188/188 [==============================] - 1s 6ms/step - loss: 0.0926 - val_loss: 0.0936\n"
     ]
    },
    {
     "data": {
      "text/plain": [
       "<keras.callbacks.History at 0x25e4ff877f0>"
      ]
     },
     "execution_count": 9,
     "metadata": {},
     "output_type": "execute_result"
    }
   ],
   "source": [
    "# Training the model\n",
    "autoencoder.fit(X_train, X_train, epochs=50, batch_size=256, validation_split=0.2)"
   ]
  },
  {
   "cell_type": "code",
   "execution_count": 10,
   "metadata": {},
   "outputs": [
    {
     "name": "stdout",
     "output_type": "stream",
     "text": [
      "313/313 [==============================] - 1s 2ms/step - loss: 0.0917\n",
      "Test loss: 0.09167752414941788\n"
     ]
    }
   ],
   "source": [
    "# Evaluate the model\n",
    "loss = autoencoder.evaluate(X_test, X_test)\n",
    "print(f\"Test loss: {loss}\")"
   ]
  }
 ],
 "metadata": {
  "kernelspec": {
   "display_name": "PyData",
   "language": "python",
   "name": "python3"
  },
  "language_info": {
   "codemirror_mode": {
    "name": "ipython",
    "version": 3
   },
   "file_extension": ".py",
   "mimetype": "text/x-python",
   "name": "python",
   "nbconvert_exporter": "python",
   "pygments_lexer": "ipython3",
   "version": "3.10.13"
  }
 },
 "nbformat": 4,
 "nbformat_minor": 2
}
