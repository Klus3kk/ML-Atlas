{
 "cells": [
  {
   "cell_type": "code",
   "execution_count": 1,
   "metadata": {},
   "outputs": [],
   "source": [
    "import numpy as np"
   ]
  },
  {
   "cell_type": "code",
   "execution_count": 2,
   "metadata": {},
   "outputs": [],
   "source": [
    "# Adam Optimizer function\n",
    "def adam_optimizer(X, y, theta, learning_rate=0.01, iterations=1000, beta1=0.9, beta2=0.999, epsilon=1e-8):\n",
    "    m, v = np.zeros_like(theta), np.zeros_like(theta)\n",
    "    for t in range(1, iterations + 1):\n",
    "        gradient = X.T.dot(X.dot(theta) - y) / len(y)\n",
    "        m = beta1 * m + (1 - beta1) * gradient\n",
    "        v = beta2 * v + (1 - beta2) * (gradient ** 2)\n",
    "        m_hat = m / (1 - beta1 ** t)\n",
    "        v_hat = v / (1 - beta2 ** t)\n",
    "        theta = theta - learning_rate * m_hat / (np.sqrt(v_hat) + epsilon)\n",
    "    return theta\n"
   ]
  },
  {
   "cell_type": "code",
   "execution_count": 3,
   "metadata": {},
   "outputs": [],
   "source": [
    "# Sample dataset\n",
    "X = np.array([[1, 1], [1, 2], [2, 2], [2, 3]])\n",
    "y = np.dot(X, np.array([1, 2])) + 3\n",
    "theta = np.zeros(X.shape[1])\n"
   ]
  },
  {
   "cell_type": "code",
   "execution_count": 4,
   "metadata": {},
   "outputs": [
    {
     "name": "stdout",
     "output_type": "stream",
     "text": [
      "Optimized Parameters: [2.31667126 2.37792232]\n"
     ]
    }
   ],
   "source": [
    "# Run Adam Optimizer\n",
    "theta = adam_optimizer(X, y, theta)\n",
    "print(f'Optimized Parameters: {theta}')\n"
   ]
  }
 ],
 "metadata": {
  "kernelspec": {
   "display_name": "pydata",
   "language": "python",
   "name": "python3"
  },
  "language_info": {
   "codemirror_mode": {
    "name": "ipython",
    "version": 3
   },
   "file_extension": ".py",
   "mimetype": "text/x-python",
   "name": "python",
   "nbconvert_exporter": "python",
   "pygments_lexer": "ipython3",
   "version": "3.10.14"
  }
 },
 "nbformat": 4,
 "nbformat_minor": 2
}
