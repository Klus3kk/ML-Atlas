{
 "cells": [
  {
   "cell_type": "code",
   "execution_count": 1,
   "metadata": {},
   "outputs": [],
   "source": [
    "import numpy as np"
   ]
  },
  {
   "cell_type": "code",
   "execution_count": 2,
   "metadata": {},
   "outputs": [],
   "source": [
    "# AdaGrad function\n",
    "def adagrad_optimizer(X, y, theta, learning_rate=0.01, iterations=1000, epsilon=1e-8):\n",
    "    G = np.zeros_like(theta)\n",
    "    for _ in range(iterations):\n",
    "        gradient = X.T.dot(X.dot(theta) - y) / len(y)\n",
    "        G += gradient ** 2\n",
    "        theta = theta - learning_rate * gradient / (np.sqrt(G) + epsilon)\n",
    "    return theta\n"
   ]
  },
  {
   "cell_type": "code",
   "execution_count": 3,
   "metadata": {},
   "outputs": [],
   "source": [
    "# Sample dataset\n",
    "X = np.array([[1, 1], [1, 2], [2, 2], [2, 3]])\n",
    "y = np.dot(X, np.array([1, 2])) + 3\n",
    "theta = np.zeros(X.shape[1])\n"
   ]
  },
  {
   "cell_type": "code",
   "execution_count": 4,
   "metadata": {},
   "outputs": [
    {
     "name": "stdout",
     "output_type": "stream",
     "text": [
      "Optimized Parameters: [0.58730035 0.58740489]\n"
     ]
    }
   ],
   "source": [
    "# Run AdaGrad\n",
    "theta = adagrad_optimizer(X, y, theta)\n",
    "print(f'Optimized Parameters: {theta}')\n"
   ]
  }
 ],
 "metadata": {
  "kernelspec": {
   "display_name": "pydata",
   "language": "python",
   "name": "python3"
  },
  "language_info": {
   "codemirror_mode": {
    "name": "ipython",
    "version": 3
   },
   "file_extension": ".py",
   "mimetype": "text/x-python",
   "name": "python",
   "nbconvert_exporter": "python",
   "pygments_lexer": "ipython3",
   "version": "3.10.14"
  }
 },
 "nbformat": 4,
 "nbformat_minor": 2
}
