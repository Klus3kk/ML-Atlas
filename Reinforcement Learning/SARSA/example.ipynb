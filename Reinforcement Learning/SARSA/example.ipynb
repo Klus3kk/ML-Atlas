{
 "cells": [
  {
   "cell_type": "code",
   "execution_count": 1,
   "metadata": {},
   "outputs": [],
   "source": [
    "import numpy as np"
   ]
  },
  {
   "cell_type": "code",
   "execution_count": 2,
   "metadata": {},
   "outputs": [],
   "source": [
    "# Environment setup\n",
    "states = [0, 1, 2, 3]\n",
    "actions = [0, 1]\n",
    "Q = np.zeros((len(states), len(actions)))\n"
   ]
  },
  {
   "cell_type": "code",
   "execution_count": 3,
   "metadata": {},
   "outputs": [],
   "source": [
    "# Parameters\n",
    "alpha = 0.1\n",
    "gamma = 0.9\n",
    "epsilon = 0.1\n"
   ]
  },
  {
   "cell_type": "code",
   "execution_count": 4,
   "metadata": {},
   "outputs": [],
   "source": [
    "# SARSA algorithm\n",
    "for episode in range(100):\n",
    "    state = np.random.choice(states)\n",
    "    action = np.random.choice(actions) if np.random.rand() < epsilon else np.argmax(Q[state])\n",
    "    done = False\n",
    "    while not done:\n",
    "        next_state = np.random.choice(states)\n",
    "        next_action = np.random.choice(actions) if np.random.rand() < epsilon else np.argmax(Q[next_state])\n",
    "        reward = np.random.rand()\n",
    "\n",
    "        Q[state, action] = Q[state, action] + alpha * (\n",
    "            reward + gamma * Q[next_state, next_action] - Q[state, action]\n",
    "        )\n",
    "        state = next_state\n",
    "        action = next_action\n",
    "        done = True  # Example terminates after one step\n"
   ]
  }
 ],
 "metadata": {
  "kernelspec": {
   "display_name": "base",
   "language": "python",
   "name": "python3"
  },
  "language_info": {
   "codemirror_mode": {
    "name": "ipython",
    "version": 3
   },
   "file_extension": ".py",
   "mimetype": "text/x-python",
   "name": "python",
   "nbconvert_exporter": "python",
   "pygments_lexer": "ipython3",
   "version": "3.10.13"
  }
 },
 "nbformat": 4,
 "nbformat_minor": 2
}
