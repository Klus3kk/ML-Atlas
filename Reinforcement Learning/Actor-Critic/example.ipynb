{
 "cells": [
  {
   "cell_type": "code",
   "execution_count": 67,
   "metadata": {},
   "outputs": [],
   "source": [
    "import gym\n",
    "import numpy as np\n",
    "import tensorflow as tf\n",
    "from tensorflow.keras import layers\n"
   ]
  },
  {
   "cell_type": "code",
   "execution_count": 68,
   "metadata": {},
   "outputs": [],
   "source": [
    "# Environment setup\n",
    "env = gym.make('CartPole-v1')\n",
    "state_shape = env.observation_space.shape\n",
    "num_actions = env.action_space.n\n"
   ]
  },
  {
   "cell_type": "code",
   "execution_count": 69,
   "metadata": {},
   "outputs": [],
   "source": [
    "# Actor model\n",
    "actor = tf.keras.Sequential([\n",
    "    layers.Dense(24, activation='relu', input_shape=state_shape),\n",
    "    layers.Dense(24, activation='relu'),\n",
    "    layers.Dense(num_actions, activation='softmax')\n",
    "])\n"
   ]
  },
  {
   "cell_type": "code",
   "execution_count": 70,
   "metadata": {},
   "outputs": [],
   "source": [
    "# Critic model\n",
    "critic = tf.keras.Sequential([\n",
    "    layers.Dense(24, activation='relu', input_shape=state_shape),\n",
    "    layers.Dense(24, activation='relu'),\n",
    "    layers.Dense(1)\n",
    "])\n"
   ]
  },
  {
   "cell_type": "code",
   "execution_count": 71,
   "metadata": {},
   "outputs": [],
   "source": [
    "# Optimizers\n",
    "actor_optimizer = tf.keras.optimizers.Adam(learning_rate=0.001)\n",
    "critic_optimizer = tf.keras.optimizers.Adam(learning_rate=0.01)\n"
   ]
  },
  {
   "cell_type": "code",
   "execution_count": null,
   "metadata": {},
   "outputs": [],
   "source": [
    "# Training loop\n",
    "for episode in range(1000):\n",
    "    state = env.reset()\n",
    "    state = np.array(state, dtype=object)  # Use dtype=object to handle lists of varying lengths\n",
    "\n",
    "    # Optionally flatten or pad the sequences\n",
    "    if state.ndim > 1 and len(set(len(x) for x in state)) > 1:\n",
    "        # Flatten or pad sequences here\n",
    "        state = np.array([item for sublist in state for item in sublist])\n",
    "\n",
    "    state = state.reshape([1, -1])  # Reshape based on the actual flattened structure\n",
    "\n",
    "    done = False\n",
    "    \n",
    "    while not done:\n",
    "        # Predict action probabilities and take an action\n",
    "        action_probs = actor(state)\n",
    "        action = np.random.choice(num_actions, p=action_probs.numpy()[0])\n",
    "        \n",
    "        # Take action in the environment\n",
    "        next_state, reward, done, _ = env.step(action)\n",
    "        next_state = np.array(next_state).reshape([1, state_shape[0]])  # Ensure next_state is a numpy array\n",
    "\n",
    "        # Critic update\n",
    "        with tf.GradientTape() as tape:\n",
    "            value = critic(state)\n",
    "            next_value = critic(next_state)\n",
    "            target = reward + 0.99 * next_value * (1 - int(done))\n",
    "            td_error = target - value\n",
    "            critic_loss = tf.reduce_mean(td_error**2)\n",
    "        \n",
    "        grads = tape.gradient(critic_loss, critic.trainable_variables)\n",
    "        critic_optimizer.apply_gradients(zip(grads, critic.trainable_variables))\n",
    "        \n",
    "        # Actor update\n",
    "        with tf.GradientTape() as tape:\n",
    "            action_probs = actor(state)\n",
    "            log_prob = tf.math.log(action_probs[0, action])\n",
    "            actor_loss = -log_prob * td_error\n",
    "        \n",
    "        grads = tape.gradient(actor_loss, actor.trainable_variables)\n",
    "        actor_optimizer.apply_gradients(zip(grads, actor.trainable_variables))\n",
    "        \n",
    "        state = next_state  # Move to the next state\n"
   ]
  }
 ],
 "metadata": {
  "kernelspec": {
   "display_name": "base",
   "language": "python",
   "name": "python3"
  },
  "language_info": {
   "codemirror_mode": {
    "name": "ipython",
    "version": 3
   },
   "file_extension": ".py",
   "mimetype": "text/x-python",
   "name": "python",
   "nbconvert_exporter": "python",
   "pygments_lexer": "ipython3",
   "version": "3.10.13"
  }
 },
 "nbformat": 4,
 "nbformat_minor": 2
}
