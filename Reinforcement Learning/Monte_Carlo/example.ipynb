{
 "cells": [
  {
   "cell_type": "code",
   "execution_count": 1,
   "metadata": {},
   "outputs": [],
   "source": [
    "import numpy as np"
   ]
  },
  {
   "cell_type": "code",
   "execution_count": 2,
   "metadata": {},
   "outputs": [],
   "source": [
    "# Environment setup\n",
    "states = [0, 1, 2, 3]\n",
    "actions = [0, 1]\n",
    "Q = np.zeros((len(states), len(actions)))\n"
   ]
  },
  {
   "cell_type": "code",
   "execution_count": 3,
   "metadata": {},
   "outputs": [],
   "source": [
    "# Parameters\n",
    "alpha = 0.1\n",
    "gamma = 0.9\n"
   ]
  },
  {
   "cell_type": "code",
   "execution_count": 4,
   "metadata": {},
   "outputs": [],
   "source": [
    "# Monte Carlo method\n",
    "for episode in range(100):\n",
    "    state = np.random.choice(states)\n",
    "    done = False\n",
    "    episode_data = []\n",
    "    while not done:\n",
    "        action = np.random.choice(actions)\n",
    "        next_state = np.random.choice(states)\n",
    "        reward = np.random.rand()\n",
    "        episode_data.append((state, action, reward))\n",
    "        state = next_state\n",
    "        done = True  # Example terminates after one step\n",
    "    \n",
    "    # Update Q-values based on episode\n",
    "    for i, (state, action, reward) in enumerate(episode_data):\n",
    "        G = sum([gamma**t * r for t, (_, _, r) in enumerate(episode_data[i:])])\n",
    "        Q[state, action] = Q[state, action] + alpha * (G - Q[state, action])\n"
   ]
  },
  {
   "cell_type": "code",
   "execution_count": null,
   "metadata": {},
   "outputs": [],
   "source": []
  }
 ],
 "metadata": {
  "kernelspec": {
   "display_name": "base",
   "language": "python",
   "name": "python3"
  },
  "language_info": {
   "codemirror_mode": {
    "name": "ipython",
    "version": 3
   },
   "file_extension": ".py",
   "mimetype": "text/x-python",
   "name": "python",
   "nbconvert_exporter": "python",
   "pygments_lexer": "ipython3",
   "version": "3.10.13"
  }
 },
 "nbformat": 4,
 "nbformat_minor": 2
}
