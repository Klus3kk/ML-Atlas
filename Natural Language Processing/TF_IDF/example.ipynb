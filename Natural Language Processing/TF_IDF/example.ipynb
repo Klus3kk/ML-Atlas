{
 "cells": [
  {
   "cell_type": "code",
   "execution_count": 1,
   "metadata": {},
   "outputs": [],
   "source": [
    "from sklearn.feature_extraction.text import TfidfVectorizer"
   ]
  },
  {
   "cell_type": "code",
   "execution_count": 2,
   "metadata": {},
   "outputs": [],
   "source": [
    "# Sample documents\n",
    "documents = [\"I love programming\", \"Programming is fun\", \"I enjoy learning new things\"]\n"
   ]
  },
  {
   "cell_type": "code",
   "execution_count": 3,
   "metadata": {},
   "outputs": [],
   "source": [
    "# Initialize TfidfVectorizer\n",
    "vectorizer = TfidfVectorizer()\n"
   ]
  },
  {
   "cell_type": "code",
   "execution_count": 4,
   "metadata": {},
   "outputs": [],
   "source": [
    "# Fit and transform the documents\n",
    "X = vectorizer.fit_transform(documents)\n"
   ]
  },
  {
   "cell_type": "code",
   "execution_count": 5,
   "metadata": {},
   "outputs": [],
   "source": [
    "# Convert to dense matrix\n",
    "X_dense = X.toarray()\n"
   ]
  },
  {
   "cell_type": "code",
   "execution_count": 6,
   "metadata": {},
   "outputs": [
    {
     "name": "stdout",
     "output_type": "stream",
     "text": [
      "Feature Names: ['enjoy' 'fun' 'is' 'learning' 'love' 'new' 'programming' 'things']\n",
      "Dense Matrix:\n",
      "[[0.         0.         0.         0.         0.79596054 0.\n",
      "  0.60534851 0.        ]\n",
      " [0.         0.62276601 0.62276601 0.         0.         0.\n",
      "  0.4736296  0.        ]\n",
      " [0.5        0.         0.         0.5        0.         0.5\n",
      "  0.         0.5       ]]\n"
     ]
    }
   ],
   "source": [
    "# Print feature names and dense matrix\n",
    "print(f'Feature Names: {vectorizer.get_feature_names_out()}')\n",
    "print(f'Dense Matrix:\\n{X_dense}')\n"
   ]
  }
 ],
 "metadata": {
  "kernelspec": {
   "display_name": "pydata",
   "language": "python",
   "name": "python3"
  },
  "language_info": {
   "codemirror_mode": {
    "name": "ipython",
    "version": 3
   },
   "file_extension": ".py",
   "mimetype": "text/x-python",
   "name": "python",
   "nbconvert_exporter": "python",
   "pygments_lexer": "ipython3",
   "version": "3.10.14"
  }
 },
 "nbformat": 4,
 "nbformat_minor": 2
}
